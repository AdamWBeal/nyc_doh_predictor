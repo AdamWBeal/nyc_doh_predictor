{
 "cells": [
  {
   "cell_type": "code",
   "execution_count": null,
   "metadata": {},
   "outputs": [],
   "source": [
    "import pandas as pd\n",
    "import requests\n",
    "import json\n"
   ]
  },
  {
   "cell_type": "code",
   "execution_count": null,
   "metadata": {},
   "outputs": [],
   "source": [
    "# df = pd.read_csv('2020-04-14 15_21_15.423756.csv', \n",
    "#                    engine='python', encoding='utf-8', error_bad_lines=False)\n",
    "\n",
    "# df = pd.read_csv('C:/Users/a/Downloads/2020-04-14 15_21_15.423756.csv',\n",
    "#                 engine='python', encoding='utf-8', error_bad_lines=False)\n",
    "\n",
    "\n",
    "# df = pd.read_csv(\"C:/Users/a/Downloads/DOHMH_New_York_City_Restaurant_Inspection_Results (10).csv\")"
   ]
  },
  {
   "cell_type": "code",
   "execution_count": null,
   "metadata": {},
   "outputs": [],
   "source": [
    "url = 'https://data.cityofnewyork.us/resource/43nn-pn8j.csv?$limit=1000000'\n",
    "\n",
    "r = requests.get(url, stream=True)\n",
    "\n",
    "with open('testfile.csv', 'wb') as fd:\n",
    "    for chunk in r.iter_content(chunk_size=128):\n",
    "        fd.write(chunk)\n",
    " "
   ]
  },
  {
   "cell_type": "code",
   "execution_count": null,
   "metadata": {},
   "outputs": [],
   "source": [
    "df = pd.read_csv('testfile.csv')"
   ]
  },
  {
   "cell_type": "code",
   "execution_count": null,
   "metadata": {},
   "outputs": [],
   "source": [
    "len(df)"
   ]
  },
  {
   "cell_type": "code",
   "execution_count": null,
   "metadata": {},
   "outputs": [],
   "source": [
    "df = pd.read_csv('C:/Users/a/Downloads/2020-04-18 16_07_54.594338.csv')"
   ]
  },
  {
   "cell_type": "code",
   "execution_count": null,
   "metadata": {},
   "outputs": [],
   "source": [
    "len(df)"
   ]
  },
  {
   "cell_type": "code",
   "execution_count": null,
   "metadata": {},
   "outputs": [],
   "source": [
    "from apscheduler.schedulers.blocking import BlockingScheduler\n",
    "\n",
    "\n",
    "def job_function():\n",
    "    print(\"Hello World\")\n",
    "\n",
    "sched = BlockingScheduler()\n",
    "\n",
    "# Schedules job_function to be run on the third Friday\n",
    "# of June, July, August, November and December at 00:00, 01:00, 02:00 and 03:00\n",
    "sched.add_job(job_function, 'cron', hour=12, minute=26)\n",
    "\n",
    "sched.start()"
   ]
  },
  {
   "cell_type": "code",
   "execution_count": null,
   "metadata": {},
   "outputs": [],
   "source": []
  }
 ],
 "metadata": {
  "kernelspec": {
   "display_name": "Python 3",
   "language": "python",
   "name": "python3"
  },
  "language_info": {
   "codemirror_mode": {
    "name": "ipython",
    "version": 3
   },
   "file_extension": ".py",
   "mimetype": "text/x-python",
   "name": "python",
   "nbconvert_exporter": "python",
   "pygments_lexer": "ipython3",
   "version": "3.7.4"
  }
 },
 "nbformat": 4,
 "nbformat_minor": 2
}
