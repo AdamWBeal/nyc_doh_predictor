{
 "cells": [
  {
   "cell_type": "code",
   "execution_count": 2,
   "metadata": {},
   "outputs": [
    {
     "name": "stdout",
     "output_type": "stream",
     "text": [
      "2020-04-04 14:14:43.612519\n"
     ]
    }
   ],
   "source": [
    "import boto3\n",
    "import requests\n",
    "import json\n",
    "import datetime\n",
    "\n"
   ]
  },
  {
   "cell_type": "code",
   "execution_count": 5,
   "metadata": {},
   "outputs": [
    {
     "name": "stdout",
     "output_type": "stream",
     "text": [
      "took 0:00:14.716655 seconds\n"
     ]
    }
   ],
   "source": [
    "start = datetime.datetime.now()\n",
    "\n",
    "r = requests.get('https://data.cityofnewyork.us/resource/43nn-pn8j.json?$limit=300000')\n",
    "r.status_code\n",
    "data = r.json()\n",
    "\n",
    "print('took {} seconds'.format(datetime.datetime.now()-start))\n"
   ]
  },
  {
   "cell_type": "code",
   "execution_count": 6,
   "metadata": {},
   "outputs": [],
   "source": [
    "s3 = boto3.resource('s3')"
   ]
  },
  {
   "cell_type": "code",
   "execution_count": 18,
   "metadata": {},
   "outputs": [
    {
     "data": {
      "text/plain": [
       "{'ResponseMetadata': {'RequestId': '0C9C1C115A214B9C',\n",
       "  'HostId': 'P4yATrbb2ZffAfaqZ3kg0THlnNwA8lK0e2uxZSMemvDD5ON5BrGqWdlwyfXJPq695hD0uxX421w=',\n",
       "  'HTTPStatusCode': 200,\n",
       "  'HTTPHeaders': {'x-amz-id-2': 'P4yATrbb2ZffAfaqZ3kg0THlnNwA8lK0e2uxZSMemvDD5ON5BrGqWdlwyfXJPq695hD0uxX421w=',\n",
       "   'x-amz-request-id': '0C9C1C115A214B9C',\n",
       "   'date': 'Sat, 04 Apr 2020 18:20:00 GMT',\n",
       "   'etag': '\"e3b59adde6cf47ef9140cd3977edcfd3\"',\n",
       "   'content-length': '0',\n",
       "   'server': 'AmazonS3',\n",
       "   'connection': 'close'},\n",
       "  'RetryAttempts': 0},\n",
       " 'ETag': '\"e3b59adde6cf47ef9140cd3977edcfd3\"'}"
      ]
     },
     "execution_count": 18,
     "metadata": {},
     "output_type": "execute_result"
    }
   ],
   "source": [
    "filename = str(str(datetime.datetime.now())+'.json')\n",
    "obj = s3.Object('doh-inspection-storage',filename)\n",
    "obj.put(Body=json.dumps(data))"
   ]
  },
  {
   "cell_type": "code",
   "execution_count": null,
   "metadata": {},
   "outputs": [],
   "source": []
  },
  {
   "cell_type": "code",
   "execution_count": null,
   "metadata": {},
   "outputs": [],
   "source": []
  },
  {
   "cell_type": "code",
   "execution_count": null,
   "metadata": {},
   "outputs": [],
   "source": []
  }
 ],
 "metadata": {
  "kernelspec": {
   "display_name": "Python 3",
   "language": "python",
   "name": "python3"
  },
  "language_info": {
   "codemirror_mode": {
    "name": "ipython",
    "version": 3
   },
   "file_extension": ".py",
   "mimetype": "text/x-python",
   "name": "python",
   "nbconvert_exporter": "python",
   "pygments_lexer": "ipython3",
   "version": "3.7.4"
  }
 },
 "nbformat": 4,
 "nbformat_minor": 2
}
